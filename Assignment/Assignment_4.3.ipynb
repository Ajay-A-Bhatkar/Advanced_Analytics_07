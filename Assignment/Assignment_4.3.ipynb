{
  "cells": [
    {
      "cell_type": "markdown",
      "metadata": {
        "id": "Wy-jgTr7wX5J"
      },
      "source": []
    },
    {
      "cell_type": "markdown",
      "metadata": {
        "id": "gWbc0zLVwYtO"
      },
      "source": [
        "QUES 1.\n"
      ]
    },
    {
      "cell_type": "code",
      "execution_count": 72,
      "metadata": {
        "id": "2DsP_eHJpPQY"
      },
      "outputs": [],
      "source": [
        "# Q1. For the three combined Marathon datasets, extract the top 25 records with lowest finish time (Officila Time column).\n",
        "# Check the null hypothesis H0 = The average finishing time of the top 25 atheletes is 130 minutes. Test it for alpha =\n",
        "# 1%, 5%, and 10% using a one-sample t-test (two-tailed test)."
      ]
    },
    {
      "cell_type": "code",
      "execution_count": 73,
      "metadata": {
        "id": "PS7D7MDoqHzH"
      },
      "outputs": [],
      "source": [
        "import pandas as pd\n",
        "from scipy import stats\n",
        "import time"
      ]
    },
    {
      "cell_type": "code",
      "execution_count": 74,
      "metadata": {
        "id": "nfcXOwY3qLe0"
      },
      "outputs": [],
      "source": [
        "df_2015 = pd.read_csv('/content/marathon_results_2015.csv')\n",
        "df_2016 = pd.read_csv('/content/marathon_results_2016.csv')\n",
        "df_2017 = pd.read_csv('/content/marathon_results_2017.csv')"
      ]
    },
    {
      "cell_type": "code",
      "execution_count": 75,
      "metadata": {
        "id": "SZG381tvqYYv"
      },
      "outputs": [],
      "source": [
        "df = pd.concat([df_2015, df_2016, df_2017])"
      ]
    },
    {
      "cell_type": "code",
      "execution_count": 76,
      "metadata": {
        "id": "u9_juOPCq-c5"
      },
      "outputs": [],
      "source": [
        "#split the official time column into hours,minutes and seconds\n",
        "df[['hours','minutes','seconds']]=df['Official Time'].str.split(':',expand=True)"
      ]
    },
    {
      "cell_type": "code",
      "execution_count": 77,
      "metadata": {
        "id": "eWyInxWcuHL-"
      },
      "outputs": [],
      "source": [
        "#convert hours,minutes and seconds into integer\n",
        "df['hours']=df['hours'].astype(int)\n",
        "df['minutes']=df['minutes'].astype(int)\n",
        "df['seconds']=df['seconds'].astype(int)"
      ]
    },
    {
      "cell_type": "code",
      "execution_count": 78,
      "metadata": {
        "id": "EefEcIJnukJU"
      },
      "outputs": [],
      "source": [
        "#calculate total time into seconds\n",
        "df['total_time']=(df['hours']*3600)+(df['minutes']*60)+df['seconds']"
      ]
    },
    {
      "cell_type": "code",
      "execution_count": 79,
      "metadata": {
        "colab": {
          "base_uri": "https://localhost:8080/"
        },
        "id": "_0BZdcUSu1PA",
        "outputId": "009d426a-a5f2-4ea6-ec0e-4f36c2dab9b2"
      },
      "outputs": [
        {
          "name": "stdout",
          "output_type": "stream",
          "text": [
            "    Unnamed: 0 Bib                   Name  Age M/F              City State  \\\n",
            "0          0.0   3         Desisa, Lelisa   25   M              Ambo   NaN   \n",
            "0          0.0  11        Kirui, Geoffrey   24   M          Keringet   NaN   \n",
            "1          1.0   4  Tsegay, Yemane Adhane   30   M       Addis Ababa   NaN   \n",
            "1          1.0  17            Rupp, Galen   30   M          Portland    OR   \n",
            "2          2.0   8         Chebet, Wilson   29   M          Marakwet   NaN   \n",
            "2          2.0  23          Osako, Suguru   25   M      Machida-City   NaN   \n",
            "3          3.0  11       Kipyego, Bernard   28   M           Eldoret   NaN   \n",
            "4          4.0  10          Korir, Wesley   32   M            Kitale   NaN   \n",
            "5          5.0   9   Chepkwony, Frankline   30   M          Koibatek   NaN   \n",
            "6          6.0  14     Ritzenhein, Dathan   32   M          Rockford    MI   \n",
            "3          3.0  21       Biwott, Shadrack   32   M     Mammoth Lakes    CA   \n",
            "4          4.0   9         Chebet, Wilson   31   M          Marakwet   NaN   \n",
            "7          7.0   1        Keflezighi, Meb   39   M         San Diego    CA   \n",
            "5          5.0  15       Abdirahman, Abdi   40   M           Phoenix    AZ   \n",
            "0          NaN   5    Hayle, Lemi Berhanu   21   M       Addis Ababa   NaN   \n",
            "6          6.0  63     Maiyo, Augustus K.   33   M  Colorado Springs    CO   \n",
            "1          NaN   1         Desisa, Lelisa   26   M              Ambo   NaN   \n",
            "8          8.0   5           Tola, Tadese   27   M       Addis Ababa   NaN   \n",
            "10        10.0  22        Tegenkamp, Matt   33   M          Portland    OR   \n",
            "9          9.0  16        Shafar, Vitaliy   33   M             Lutsk   NaN   \n",
            "2          NaN   6  Tsegay, Yemane Adhane   31   M       Addis Ababa   NaN   \n",
            "3          NaN  11          Korir, Wesley   33   M            Kitale   NaN   \n",
            "11        11.0  19     Eggleston, Jeffrey   30   M           Boulder    CO   \n",
            "7          7.0   7            Sefir, Dino   28   M       Addis Ababa   NaN   \n",
            "8          8.0  18         Puskedra, Luke   27   M            Eugene    OR   \n",
            "\n",
            "   Country Citizen Unnamed: 9  ... Proj Time Official Time Overall Gender  \\\n",
            "0      ETH     NaN        NaN  ...         -       2:09:17       1      1   \n",
            "0      KEN     NaN        NaN  ...         -       2:09:37       1      1   \n",
            "1      ETH     NaN        NaN  ...         -       2:09:48       2      2   \n",
            "1      USA     NaN        NaN  ...         -       2:09:58       2      2   \n",
            "2      KEN     NaN        NaN  ...         -       2:10:22       3      3   \n",
            "2      JPN     NaN        NaN  ...         -       2:10:28       3      3   \n",
            "3      KEN     NaN        NaN  ...         -       2:10:47       4      4   \n",
            "4      KEN     NaN        NaN  ...         -       2:10:49       5      5   \n",
            "5      KEN     NaN        NaN  ...         -       2:10:52       6      6   \n",
            "6      USA     NaN        NaN  ...         -       2:11:20       7      7   \n",
            "3      USA     NaN        NaN  ...         -       2:12:08       4      4   \n",
            "4      KEN     NaN        NaN  ...         -       2:12:35       5      5   \n",
            "7      USA     NaN        NaN  ...         -       2:12:42       8      8   \n",
            "5      USA     NaN        NaN  ...         -       2:12:45       6      6   \n",
            "0      ETH     NaN        NaN  ...   2:12:45       2:12:45       1      1   \n",
            "6      USA     NaN        NaN  ...         -       2:13:16       7      7   \n",
            "1      ETH     NaN        NaN  ...   2:13:32       2:13:32       2      2   \n",
            "8      ETH     NaN        NaN  ...         -       2:13:35       9      9   \n",
            "10     USA     NaN        NaN  ...         -       2:13:52      11     11   \n",
            "9      UKR     NaN        NaN  ...         -       2:13:52      10     10   \n",
            "2      ETH     NaN        NaN  ...   2:14:02       2:14:02       3      3   \n",
            "3      KEN     NaN        NaN  ...   2:14:05       2:14:05       4      4   \n",
            "11     USA     NaN        NaN  ...         -       2:14:17      12     12   \n",
            "7      ETH     NaN        NaN  ...         -       2:14:26       8      8   \n",
            "8      USA     NaN        NaN  ...         -       2:14:45       9      9   \n",
            "\n",
            "   Division Unnamed: 8 hours minutes seconds total_time  \n",
            "0         1        NaN     2       9      17       7757  \n",
            "0         1        NaN     2       9      37       7777  \n",
            "1         2        NaN     2       9      48       7788  \n",
            "1         2        NaN     2       9      58       7798  \n",
            "2         3        NaN     2      10      22       7822  \n",
            "2         3        NaN     2      10      28       7828  \n",
            "3         4        NaN     2      10      47       7847  \n",
            "4         5        NaN     2      10      49       7849  \n",
            "5         6        NaN     2      10      52       7852  \n",
            "6         7        NaN     2      11      20       7880  \n",
            "3         4        NaN     2      12       8       7928  \n",
            "4         5        NaN     2      12      35       7955  \n",
            "7         8        NaN     2      12      42       7962  \n",
            "5         1        NaN     2      12      45       7965  \n",
            "0         1        NaN     2      12      45       7965  \n",
            "6         6        NaN     2      13      16       7996  \n",
            "1         2        NaN     2      13      32       8012  \n",
            "8         9        NaN     2      13      35       8015  \n",
            "10       11        NaN     2      13      52       8032  \n",
            "9        10        NaN     2      13      52       8032  \n",
            "2         3        NaN     2      14       2       8042  \n",
            "3         4        NaN     2      14       5       8045  \n",
            "11       12        NaN     2      14      17       8057  \n",
            "7         7        NaN     2      14      26       8066  \n",
            "8         8        NaN     2      14      45       8085  \n",
            "\n",
            "[25 rows x 30 columns]\n"
          ]
        }
      ],
      "source": [
        "#sort dataframe in ascending order\n",
        "df=df.sort_values(by='total_time')\n",
        "df=df.head(25)\n",
        "print(df)"
      ]
    },
    {
      "cell_type": "markdown",
      "metadata": {
        "id": "X-Cq-bO8wc6P"
      },
      "source": []
    },
    {
      "cell_type": "markdown",
      "metadata": {
        "id": "7J5__-eQweaG"
      },
      "source": [
        "QUES 2."
      ]
    },
    {
      "cell_type": "code",
      "execution_count": 80,
      "metadata": {
        "colab": {
          "base_uri": "https://localhost:8080/",
          "height": 54
        },
        "collapsed": true,
        "id": "cl5lTwoUvOW4",
        "outputId": "166c7ae1-4a6d-4a5f-f2d0-fe608aafb879"
      },
      "outputs": [
        {
          "data": {
            "application/vnd.google.colaboratory.intrinsic+json": {
              "type": "string"
            },
            "text/plain": [
              "'Q2. For the diabetes,divide people into two groups:(a)age<=40,(b)age>40.Take 30 samples each.Run a two-sample t-test to see if their\\n Glucose levels have a significant difference.'"
            ]
          },
          "execution_count": 80,
          "metadata": {},
          "output_type": "execute_result"
        }
      ],
      "source": [
        "'''Q2. For the diabetes,divide people into two groups:(a)age<=40,(b)age>40.Take 30 samples each.Run a two-sample t-test to see if their\n",
        " Glucose levels have a significant difference.'''\n"
      ]
    },
    {
      "cell_type": "code",
      "execution_count": 81,
      "metadata": {
        "id": "Bzoraaan4OHL"
      },
      "outputs": [],
      "source": [
        "import pandas as pd\n",
        "import numpy as np\n",
        "from scipy import stats\n",
        "\n"
      ]
    },
    {
      "cell_type": "code",
      "execution_count": 82,
      "metadata": {
        "id": "JEgDFd0e4h4-"
      },
      "outputs": [],
      "source": [
        "df=pd.read_csv(\"/content/diabetes.csv\")"
      ]
    },
    {
      "cell_type": "code",
      "execution_count": 83,
      "metadata": {
        "id": "u8NGxhZN4noR"
      },
      "outputs": [],
      "source": [
        "# Divide people into two groups: (a) age <= 40, (b) age > 40\n",
        "\n",
        "group_a = df[df['Age'] <= 40]\n",
        "group_b = df[df['Age'] > 40]\n",
        "\n",
        "# Take 30 samples each (if possible)\n",
        "np.random.seed(0)\n",
        "group_a_samples = group_a.sample(min(30, len(group_a)), replace=False)\n",
        "group_b_samples = group_b.sample(min(30, len(group_b)), replace=False)\n",
        "\n"
      ]
    },
    {
      "cell_type": "code",
      "execution_count": 84,
      "metadata": {
        "colab": {
          "base_uri": "https://localhost:8080/"
        },
        "id": "eUqqMz_g5Nt9",
        "outputId": "cf492d60-361c-42db-acf3-c6ca60d9df2a"
      },
      "outputs": [
        {
          "name": "stdout",
          "output_type": "stream",
          "text": [
            "T-statistic: -2.0150502635244076\n",
            "P-value: 0.04854243976528464\n",
            "Reject the null hypothesis\n"
          ]
        }
      ],
      "source": [
        "# Run a two-sample t-test to see if their Glucose levels have a significant difference\n",
        "t_stat, p_val = stats.ttest_ind(group_a_samples['Glucose'], group_b_samples['Glucose'])\n",
        "print(\"T-statistic:\", t_stat)\n",
        "print(\"P-value:\", p_val)\n",
        "\n",
        "# If the p-value is less than 0.05, we reject the null hypothesis and conclude that the Glucose levels are significantly different\n",
        "if p_val < 0.05:\n",
        "    print(\"Reject the null hypothesis\")\n",
        "else:\n",
        "    print(\"Fail to reject the null hypothesis\")"
      ]
    },
    {
      "cell_type": "markdown",
      "metadata": {
        "id": "Gwfm3f7nx0rT"
      },
      "source": []
    },
    {
      "cell_type": "markdown",
      "metadata": {
        "id": "NyvLmAZnx2Yz"
      },
      "source": [
        "QUES 3.\n"
      ]
    },
    {
      "cell_type": "code",
      "execution_count": 85,
      "metadata": {
        "colab": {
          "base_uri": "https://localhost:8080/",
          "height": 90
        },
        "id": "wxkculkgx0hT",
        "outputId": "56d25a9a-6ccb-42d5-f97f-f56312814590"
      },
      "outputs": [
        {
          "data": {
            "application/vnd.google.colaboratory.intrinsic+json": {
              "type": "string"
            },
            "text/plain": [
              "\"Q3. Use the hypothermia dataset.Hypothermia is a medical condition that occurs when the body's core temperature drops below 35 degree celcius.\\nIt is a medical emergency where the body loses heat faster than it can produce it,leading to dangerously low body temperatures.\\nPatients are treated for this condition.The t.1 column represents the patients body temperature when the patient got admitted.\\nThe t.2 column represents the patients body temperature after the initial treatment.Run a paired t-test to find if the treatment was effective.\""
            ]
          },
          "execution_count": 85,
          "metadata": {},
          "output_type": "execute_result"
        }
      ],
      "source": [
        "'''Q3. Use the hypothermia dataset.Hypothermia is a medical condition that occurs when the body's core temperature drops below 35 degree celcius.\n",
        "It is a medical emergency where the body loses heat faster than it can produce it,leading to dangerously low body temperatures.\n",
        "Patients are treated for this condition.The t.1 column represents the patients body temperature when the patient got admitted.\n",
        "The t.2 column represents the patients body temperature after the initial treatment.Run a paired t-test to find if the treatment was effective.'''"
      ]
    },
    {
      "cell_type": "code",
      "execution_count": 86,
      "metadata": {
        "colab": {
          "base_uri": "https://localhost:8080/"
        },
        "id": "OojTRLoOxzz1",
        "outputId": "cdf2f61a-a0d2-4d51-87cc-09d83970f30d"
      },
      "outputs": [
        {
          "name": "stdout",
          "output_type": "stream",
          "text": [
            "\n",
            "Paired t-test results for hypothermia treatment:\n",
            "t-statistic: -22.284298214866393\n",
            "p-value: 5.5720123452358365e-56\n"
          ]
        }
      ],
      "source": [
        "df_hypo = pd.read_csv(\"/content/Hypothermia.csv\")\n",
        "\n",
        "# Perform a paired t-test\n",
        "t_stat_paired, p_val_paired = stats.ttest_rel(df_hypo['t.1'], df_hypo['t.2'])\n",
        "\n",
        "print(\"\\nPaired t-test results for hypothermia treatment:\")\n",
        "print(f\"t-statistic: {t_stat_paired}\")\n",
        "print(f\"p-value: {p_val_paired}\")"
      ]
    },
    {
      "cell_type": "code",
      "execution_count": 87,
      "metadata": {
        "colab": {
          "base_uri": "https://localhost:8080/"
        },
        "id": "y-2l_hLDxz-8",
        "outputId": "86360c39-cde0-45a1-e762-37989099ebb2"
      },
      "outputs": [
        {
          "name": "stdout",
          "output_type": "stream",
          "text": [
            "Reject the null hypothesis\n"
          ]
        }
      ],
      "source": [
        "# Interpret the results of the paired t-test\n",
        "alpha_paired = 0.05  # Using a common alpha level\n",
        "if p_val_paired < alpha_paired:\n",
        "    print(\"Reject the null hypothesis\")\n",
        "else:\n",
        "    print(\"Fail to reject the null hypothesis\")"
      ]
    },
    {
      "cell_type": "markdown",
      "metadata": {
        "id": "AUAhudNOwUHh"
      },
      "source": [
        "QUES 4.\n"
      ]
    },
    {
      "cell_type": "code",
      "execution_count": 88,
      "metadata": {
        "id": "1giWXZoi5WEK"
      },
      "outputs": [],
      "source": [
        "## Q4.\n",
        "# For studentsperformance.csv, using ANOVA find if there is a significant difference in Maths marks depending on the level of parental education.\n"
      ]
    },
    {
      "cell_type": "code",
      "execution_count": 89,
      "metadata": {
        "id": "x8EWxGkOwLZZ"
      },
      "outputs": [],
      "source": [
        "import pandas as pd\n",
        "from scipy import stats"
      ]
    },
    {
      "cell_type": "code",
      "execution_count": 90,
      "metadata": {
        "id": "-RsTisqJwRi3"
      },
      "outputs": [],
      "source": [
        "df = pd.read_csv('/content/StudentsPerformance.csv')"
      ]
    },
    {
      "cell_type": "code",
      "execution_count": 91,
      "metadata": {
        "id": "FlLFX6Ncw77E"
      },
      "outputs": [],
      "source": [
        "# We need to group the math scores by parental education level\n",
        "groups = df.groupby('parental level of education')['math score'].apply(list)\n"
      ]
    },
    {
      "cell_type": "code",
      "execution_count": 92,
      "metadata": {
        "id": "QY9Dq0cl61eE"
      },
      "outputs": [],
      "source": [
        "# Extract the groups as separate lists for the ANOVA test\n",
        "group1 = groups.get('some high school')\n",
        "group2 = groups.get('high school')\n",
        "group3 = groups.get('some college')\n",
        "group4 = groups.get('associate\\'s degree')\n",
        "group5 = groups.get('bachelor\\'s degree')\n",
        "group6 = groups.get('master\\'s degree')\n",
        "# Perform one-way ANOVA"
      ]
    },
    {
      "cell_type": "code",
      "execution_count": 93,
      "metadata": {
        "colab": {
          "base_uri": "https://localhost:8080/"
        },
        "id": "R-v8LTh962vV",
        "outputId": "be3a6b0d-4172-4317-9725-16bfc2d66f31"
      },
      "outputs": [
        {
          "name": "stdout",
          "output_type": "stream",
          "text": [
            "F-statistic: 6.521582600453217\n",
            "P-value: 5.592272384107223e-06\n"
          ]
        }
      ],
      "source": [
        "f_statistic, p_value = stats.f_oneway(group1, group2, group3, group4, group5, group6)\n",
        "print(\"F-statistic:\", f_statistic)\n",
        "print(\"P-value:\", p_value)"
      ]
    },
    {
      "cell_type": "code",
      "execution_count": 94,
      "metadata": {
        "colab": {
          "base_uri": "https://localhost:8080/"
        },
        "id": "Tmpvwscb66Hn",
        "outputId": "d9538376-5cd9-49c9-cf50-4ac95dab0896"
      },
      "outputs": [
        {
          "name": "stdout",
          "output_type": "stream",
          "text": [
            "Reject the null hypothesis\n"
          ]
        }
      ],
      "source": [
        "# Interpret the results\n",
        "alpha = 0.05\n",
        "if p_value < alpha:\n",
        "    print(\"Reject the null hypothesis\")\n",
        "else:\n",
        "    print(\"Fail to reject the null hypothesis\")"
      ]
    },
    {
      "cell_type": "markdown",
      "metadata": {
        "id": "9u1edYWzwQRc"
      },
      "source": [
        "QUES 5.\n"
      ]
    },
    {
      "cell_type": "code",
      "execution_count": 95,
      "metadata": {
        "id": "h0YbFQRVvVOe"
      },
      "outputs": [],
      "source": [
        "# Q5.\n",
        "# Use dataset airline_passenger_satisfaction.csv. For male passengers, determine if passenger class and ratings given to \"onboard services\" are independent\n",
        "# Separately repeat for female passengers\n"
      ]
    },
    {
      "cell_type": "code",
      "execution_count": 96,
      "metadata": {
        "id": "Uc3FPAO6yHw7"
      },
      "outputs": [],
      "source": [
        "import pandas as pd\n",
        "from scipy import stats\n",
        "from scipy.stats import chi2_contingency"
      ]
    },
    {
      "cell_type": "code",
      "execution_count": 97,
      "metadata": {
        "id": "II7ckEYAxEvR"
      },
      "outputs": [],
      "source": [
        "df = pd.read_csv('/content/airline_passenger_satisfaction.csv')"
      ]
    },
    {
      "cell_type": "code",
      "execution_count": 98,
      "metadata": {
        "id": "4Zp3TMa9xYRn"
      },
      "outputs": [],
      "source": [
        "# Separate data for male and female passengers\n",
        "male_df = df[df['Gender'] == 'Male'].copy()\n",
        "female_df = df[df['Gender'] == 'Female'].copy()"
      ]
    },
    {
      "cell_type": "code",
      "execution_count": 99,
      "metadata": {
        "colab": {
          "base_uri": "https://localhost:8080/"
        },
        "id": "9kLye-qFxt7w",
        "outputId": "bf90bd38-3f31-4401-bdef-112487eb66c6"
      },
      "outputs": [
        {
          "name": "stdout",
          "output_type": "stream",
          "text": [
            "Analysis for Male Passengers:\n",
            "\n",
            "Contingency Table (Male Passengers):\n",
            " On-board Service  0     1     2     3      4     5\n",
            "Class                                             \n",
            "Business          2  2053  3379  5826  10743  8894\n",
            "Economy           0  4420  4430  7403   7535  4851\n",
            "Economy Plus      0   791   792  1118   1076   668\n"
          ]
        }
      ],
      "source": [
        "# For Male Passengers\n",
        "print(\"Analysis for Male Passengers:\")\n",
        "# Create a contingency table of 'Class' and 'On-board service'\n",
        "male_contingency_table = pd.crosstab(male_df['Class'], male_df['On-board Service'])\n",
        "print(\"\\nContingency Table (Male Passengers):\\n\", male_contingency_table)\n"
      ]
    },
    {
      "cell_type": "code",
      "execution_count": 100,
      "metadata": {
        "colab": {
          "base_uri": "https://localhost:8080/"
        },
        "id": "zjcqX3B0xwnH",
        "outputId": "391b6edd-61de-4a70-b8c6-da72c91becb1"
      },
      "outputs": [
        {
          "name": "stdout",
          "output_type": "stream",
          "text": [
            "\n",
            "Chi-squared statistic (Male): 3277.65893042465\n",
            "P-value (Male): 0.0\n"
          ]
        }
      ],
      "source": [
        "# Perform the Chi-squared test for independence\n",
        "chi2_male, p_male, dof_male, expected_male = stats.chi2_contingency(male_contingency_table)\n",
        "\n",
        "print(\"\\nChi-squared statistic (Male):\", chi2_male)\n",
        "print(\"P-value (Male):\", p_male)"
      ]
    },
    {
      "cell_type": "code",
      "execution_count": 101,
      "metadata": {
        "colab": {
          "base_uri": "https://localhost:8080/"
        },
        "id": "2xWZ3nbzxwfp",
        "outputId": "712787f3-e2e2-4f5a-b2e0-51e159ae4883"
      },
      "outputs": [
        {
          "name": "stdout",
          "output_type": "stream",
          "text": [
            "Reject the null hypothesis\n",
            "--------------------------------------------------\n",
            "Analysis for Female Passengers:\n",
            "\n",
            "Contingency Table (Female Passengers):\n",
            " On-board Service  0     1     2     3      4     5\n",
            "Class                                             \n",
            "Business          3  2065  3425  5926  10738  9106\n",
            "Economy           0  4659  5366  7103   7387  5155\n",
            "Economy Plus      0   799   959  1166   1224   818\n"
          ]
        }
      ],
      "source": [
        "# Interpret the results for male passengers\n",
        "alpha = 0.05\n",
        "if p_male < alpha:\n",
        "  print(\"Reject the null hypothesis\")\n",
        "else:\n",
        "  print(\"Fail to reject the null hypothesis\")\n",
        "\n",
        "print(\"-\" * 50) # Separator\n",
        "\n",
        "# For Female Passengers\n",
        "print(\"Analysis for Female Passengers:\")\n",
        "# Create a contingency table of 'Class' and 'On-board service'\n",
        "female_contingency_table = pd.crosstab(female_df['Class'], female_df['On-board Service'])\n",
        "print(\"\\nContingency Table (Female Passengers):\\n\", female_contingency_table)\n"
      ]
    },
    {
      "cell_type": "code",
      "execution_count": 102,
      "metadata": {
        "colab": {
          "base_uri": "https://localhost:8080/"
        },
        "id": "fAZPiYepxwUH",
        "outputId": "18925f13-2ab5-4b40-c766-a32b8e293de2"
      },
      "outputs": [
        {
          "name": "stdout",
          "output_type": "stream",
          "text": [
            "\n",
            "Chi-squared statistic (Female): 3510.798006324988\n",
            "P-value (Female): 0.0\n"
          ]
        }
      ],
      "source": [
        "# Perform the Chi-squared test for independence\n",
        "chi2_female, p_female, dof_female, expected_female = stats.chi2_contingency(female_contingency_table)\n",
        "\n",
        "print(\"\\nChi-squared statistic (Female):\", chi2_female)\n",
        "print(\"P-value (Female):\", p_female)"
      ]
    },
    {
      "cell_type": "code",
      "execution_count": 103,
      "metadata": {
        "colab": {
          "base_uri": "https://localhost:8080/"
        },
        "id": "JRmO-hJcx-EU",
        "outputId": "79f8762e-7d13-4c16-e59d-2df4c9bc5cd7"
      },
      "outputs": [
        {
          "name": "stdout",
          "output_type": "stream",
          "text": [
            "Reject the null hypothesis.\n"
          ]
        }
      ],
      "source": [
        "# Interpret the results for female passengers\n",
        "if p_female < alpha:\n",
        "  print(\"Reject the null hypothesis.\")\n",
        "else:\n",
        "  print(\"Fail to reject the null hypothesis\")"
      ]
    },
    {
      "cell_type": "markdown",
      "metadata": {
        "id": "TtoVSoyj-LvS"
      },
      "source": [
        "QUES 6.\n"
      ]
    },
    {
      "cell_type": "code",
      "execution_count": 104,
      "metadata": {
        "id": "sD9ne9yhvucu"
      },
      "outputs": [],
      "source": [
        "# Q6.\n",
        "# Use datset Amazon Sale Report.\n",
        "# are order fulfillment and order status independent? consider only cancelled and pending orders."
      ]
    },
    {
      "cell_type": "code",
      "execution_count": 105,
      "metadata": {
        "id": "KV1b7howzHxz"
      },
      "outputs": [],
      "source": [
        "import pandas as pd\n",
        "from scipy.stats import chi2_contingency"
      ]
    },
    {
      "cell_type": "code",
      "execution_count": 106,
      "metadata": {
        "colab": {
          "base_uri": "https://localhost:8080/"
        },
        "id": "BrbGGUlRyidd",
        "outputId": "27354237-0550-4cbe-e212-cebb19acb425"
      },
      "outputs": [
        {
          "name": "stderr",
          "output_type": "stream",
          "text": [
            "<ipython-input-106-056aaa6327c3>:1: DtypeWarning: Columns (23) have mixed types. Specify dtype option on import or set low_memory=False.\n",
            "  df = pd.read_csv('/content/Amazon Sale Report.csv')\n"
          ]
        }
      ],
      "source": [
        "df = pd.read_csv('/content/Amazon Sale Report.csv')"
      ]
    },
    {
      "cell_type": "code",
      "execution_count": 107,
      "metadata": {
        "id": "JjXN2LOjyqyJ"
      },
      "outputs": [],
      "source": [
        "# Filter for 'Cancelled' and 'Pending' orders\n",
        "filtered_df = df[df['Status'].isin(['Cancelled', 'Pending'])].copy()"
      ]
    },
    {
      "cell_type": "code",
      "execution_count": 108,
      "metadata": {
        "colab": {
          "base_uri": "https://localhost:8080/"
        },
        "id": "N4YovUnszbUQ",
        "outputId": "c8275fe3-de26-402b-b176-3ce39ef159b0"
      },
      "outputs": [
        {
          "name": "stdout",
          "output_type": "stream",
          "text": [
            "Contingency Table:\n",
            " Status      Cancelled  Pending\n",
            "Fulfilment                    \n",
            "Amazon          11471      415\n",
            "Merchant         6861      243\n"
          ]
        }
      ],
      "source": [
        "# Create a contingency table of 'Order Fulfillment' and 'Order Status'\n",
        "contingency_table = pd.crosstab(filtered_df['Fulfilment'], filtered_df['Status'])\n",
        "print(\"Contingency Table:\\n\", contingency_table)"
      ]
    },
    {
      "cell_type": "code",
      "execution_count": 109,
      "metadata": {
        "colab": {
          "base_uri": "https://localhost:8080/"
        },
        "id": "y0jp24tzzcWC",
        "outputId": "069ccfb4-5b33-4a72-8c7b-1a7e87adc033"
      },
      "outputs": [
        {
          "name": "stdout",
          "output_type": "stream",
          "text": [
            "\n",
            "Chi-squared statistic: 0.04729799287402296\n",
            "P-value: 0.8278334990054204\n"
          ]
        }
      ],
      "source": [
        "# Perform the Chi-squared test for independence\n",
        "chi2, p, dof, expected = stats.chi2_contingency(contingency_table)\n",
        "print(\"\\nChi-squared statistic:\", chi2)\n",
        "print(\"P-value:\", p)"
      ]
    },
    {
      "cell_type": "code",
      "execution_count": 110,
      "metadata": {
        "colab": {
          "base_uri": "https://localhost:8080/"
        },
        "id": "o9PeX5A9zcSp",
        "outputId": "d4f375f3-2c7a-4078-a7c3-e7929b07717e"
      },
      "outputs": [
        {
          "name": "stdout",
          "output_type": "stream",
          "text": [
            "Fail to reject the null hypothesis\n"
          ]
        }
      ],
      "source": [
        "# Interpret the results\n",
        "alpha = 0.05\n",
        "if p < alpha:\n",
        "  print(\"Reject the null hypothesis\")\n",
        "else:\n",
        "  print(\"Fail to reject the null hypothesis\")"
      ]
    },
    {
      "cell_type": "code",
      "execution_count": 110,
      "metadata": {
        "id": "bBynaGR23kmI"
      },
      "outputs": [],
      "source": []
    }
  ],
  "metadata": {
    "colab": {
      "provenance": []
    },
    "kernelspec": {
      "display_name": "Python 3",
      "name": "python3"
    },
    "language_info": {
      "name": "python"
    }
  },
  "nbformat": 4,
  "nbformat_minor": 0
}
